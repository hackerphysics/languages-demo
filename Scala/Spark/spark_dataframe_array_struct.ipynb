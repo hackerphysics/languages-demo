{
 "cells": [
  {
   "cell_type": "code",
   "execution_count": 4,
   "metadata": {},
   "outputs": [
    {
     "name": "stdout",
     "output_type": "stream",
     "text": [
      "root\n",
      " |-- id: long (nullable = true)\n",
      "\n"
     ]
    },
    {
     "data": {
      "text/plain": [
       "import org.apache.spark.sql.SaveMode\r\n",
       "t1: org.apache.spark.sql.DataFrame = [id: bigint]\r\n",
       "t2: org.apache.spark.sql.DataFrame = [id: bigint]\n"
      ]
     },
     "execution_count": 4,
     "metadata": {},
     "output_type": "execute_result"
    }
   ],
   "source": [
    "// create a new dataframe\n",
    "import org.apache.spark.sql.SaveMode\n",
    "spark.range(10e1.toLong).write.mode(SaveMode.Overwrite).saveAsTable(\"t1\")\n",
    "spark.range(10e2.toLong).write.mode(SaveMode.Overwrite).saveAsTable(\"t2\")\n",
    "val t1 = spark.table(\"t1\")\n",
    "val t2 = spark.table(\"t2\")\n",
    "t1.printSchema"
   ]
  },
  {
   "cell_type": "code",
   "execution_count": 29,
   "metadata": {},
   "outputs": [
    {
     "name": "stdout",
     "output_type": "stream",
     "text": [
      "root\n",
      " |-- id: long (nullable = true)\n",
      " |-- id2: long (nullable = true)\n",
      " |-- filter: integer (nullable = false)\n",
      " |-- struct: struct (nullable = false)\n",
      " |    |-- id: long (nullable = true)\n",
      " |    |-- id2: long (nullable = true)\n",
      "\n",
      "+---+---+------+------+\n",
      "| id|id2|filter|struct|\n",
      "+---+---+------+------+\n",
      "+---+---+------+------+\n",
      "\n"
     ]
    },
    {
     "data": {
      "text/plain": [
       "df0: org.apache.spark.sql.Dataset[org.apache.spark.sql.Row] = [id: bigint, id2: bigint ... 2 more fields]\n"
      ]
     },
     "execution_count": 29,
     "metadata": {},
     "output_type": "execute_result"
    }
   ],
   "source": [
    "val df0 = t1.withColumn(\"id2\",col(\"id\")).withColumn(\"filter\",lit(0)).withColumn(\"struct\", struct(\"id\", \"id2\")).filter(col(\"filter\") =!= 0)\n",
    "df0.printSchema\n",
    "df0.show()"
   ]
  },
  {
   "cell_type": "code",
   "execution_count": 31,
   "metadata": {},
   "outputs": [
    {
     "name": "stdout",
     "output_type": "stream",
     "text": [
      "root\n",
      " |-- filter: integer (nullable = false)\n",
      " |-- array: array (nullable = true)\n",
      " |    |-- element: struct (containsNull = true)\n",
      " |    |    |-- id: long (nullable = true)\n",
      " |    |    |-- id2: long (nullable = true)\n",
      "\n",
      "+------+-----+\n",
      "|filter|array|\n",
      "+------+-----+\n",
      "+------+-----+\n",
      "\n",
      "+------+-----+\n",
      "|filter|array|\n",
      "+------+-----+\n",
      "+------+-----+\n",
      "\n"
     ]
    },
    {
     "data": {
      "text/plain": [
       "df1: org.apache.spark.sql.DataFrame = [filter: int, array: array<struct<id:bigint,id2:bigint>>]\r\n",
       "df2: org.apache.spark.sql.Dataset[org.apache.spark.sql.Row] = [filter: int, array: array<struct<id:bigint,id2:bigint>>]\n"
      ]
     },
     "execution_count": 31,
     "metadata": {},
     "output_type": "execute_result"
    }
   ],
   "source": [
    "val df1 = df0.groupBy(\"filter\").agg(collect_list(col(\"struct\")).as(\"array\"))\n",
    "df1.printSchema\n",
    "df1.show()\n",
    "val df2 = df1.filter(col(\"filter\") =!= 0)\n",
    "df2.show()"
   ]
  },
  {
   "cell_type": "code",
   "execution_count": null,
   "metadata": {},
   "outputs": [],
   "source": []
  }
 ],
 "metadata": {
  "kernelspec": {
   "display_name": "spylon-kernel",
   "language": "scala",
   "name": "spylon-kernel"
  },
  "language_info": {
   "codemirror_mode": "text/x-scala",
   "file_extension": ".scala",
   "help_links": [
    {
     "text": "MetaKernel Magics",
     "url": "https://metakernel.readthedocs.io/en/latest/source/README.html"
    }
   ],
   "mimetype": "text/x-scala",
   "name": "scala",
   "pygments_lexer": "scala",
   "version": "0.4.1"
  }
 },
 "nbformat": 4,
 "nbformat_minor": 2
}
