{
 "cells": [
  {
   "cell_type": "code",
   "execution_count": null,
   "metadata": {},
   "outputs": [],
   "source": [
    "import org.apache.spark.sql.{DataFrame, SaveMode}\n",
    "\n",
    "val df = spark.createDataFrame(Seq(\n",
    "  (\"ming\", 20, 15552211521L),\n",
    "  (\"hong\", 19, 13287994007L),\n",
    "  (\"zhi\", 21, 15552211523L)\n",
    ")).toDF(\"name\", \"age\", \"phone\")\n",
    "\n",
    "df.show()\n",
    "df.repartition(1).write.mode(SaveMode.Overwrite).parquet(\"C:/tmp/schema1\")"
   ]
  },
  {
   "cell_type": "code",
   "execution_count": null,
   "metadata": {},
   "outputs": [],
   "source": []
  }
 ],
 "metadata": {
  "kernelspec": {
   "display_name": "spylon-kernel",
   "language": "scala",
   "name": "spylon-kernel"
  },
  "language_info": {
   "codemirror_mode": "text/x-scala",
   "file_extension": ".scala",
   "help_links": [
    {
     "text": "MetaKernel Magics",
     "url": "https://metakernel.readthedocs.io/en/latest/source/README.html"
    }
   ],
   "mimetype": "text/x-scala",
   "name": "scala",
   "pygments_lexer": "scala",
   "version": "0.4.1"
  }
 },
 "nbformat": 4,
 "nbformat_minor": 2
}
