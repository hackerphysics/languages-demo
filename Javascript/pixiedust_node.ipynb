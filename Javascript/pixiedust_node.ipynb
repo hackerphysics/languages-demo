{
 "cells": [
  {
   "cell_type": "code",
   "execution_count": 2,
   "metadata": {
    "tags": []
   },
   "outputs": [
    {
     "output_type": "stream",
     "name": "stdout",
     "text": "Pixiedust database opened successfully\n"
    },
    {
     "output_type": "display_data",
     "data": {
      "text/plain": "<IPython.core.display.HTML object>",
      "text/html": "\n        <div style=\"margin:10px\">\n            <a href=\"https://github.com/ibm-watson-data-lab/pixiedust\" target=\"_new\">\n                <img src=\"https://github.com/ibm-watson-data-lab/pixiedust/raw/master/docs/_static/pd_icon32.png\" style=\"float:left;margin-right:10px\"/>\n            </a>\n            <span>Pixiedust version 1.1.18</span>\n        </div>\n        "
     },
     "metadata": {}
    },
    {
     "output_type": "display_data",
     "data": {
      "text/plain": "<IPython.core.display.HTML object>",
      "text/html": "\n            <div style=\"margin:10px\"> \n            <a href=\"https://github.com/ibm-cds-labs/pixiedust_node\" target=\"_new\"> \n            <img src=\"https://github.com/ibm-cds-labs/pixiedust_node/raw/master/docs/_images/pdn_icon32.png\" style=\"float:left;margin-right:10px\"/> \n            </a> \n            <span>Pixiedust Node.js</span> \n            </div> \n"
     },
     "metadata": {}
    }
   ],
   "source": [
    "import pixiedust_node"
   ]
  },
  {
   "cell_type": "code",
   "execution_count": 5,
   "metadata": {
    "tags": []
   },
   "outputs": [
    {
     "output_type": "stream",
     "name": "stdout",
     "text": "\"2020-07-03T04:03:49.588Z\"\n"
    }
   ],
   "source": [
    "%%node\n",
    "var date = new Date();\n",
    "print(date);"
   ]
  },
  {
   "cell_type": "code",
   "execution_count": 13,
   "metadata": {
    "tags": []
   },
   "outputs": [
    {
     "output_type": "stream",
     "name": "stdout",
     "text": "{\"a\": 1, \"b\": \"two\", \"c\": true}\n"
    }
   ],
   "source": [
    "%%node\n",
    "var x = { a:1, b:'two', c: true };\n",
    "print(x);"
   ]
  },
  {
   "cell_type": "code",
   "execution_count": 14,
   "metadata": {},
   "outputs": [],
   "source": [
    "%%node\n",
    "function counter(){\n",
    "    var n = 0;\n",
    "    return{\n",
    "        count: function(){return n ++},\n",
    "        reset: function(){n = 0;}\n",
    "    }\n",
    "}\n",
    "\n",
    "var c = counter()\n",
    "var d = counter()\n",
    "\n",
    "print( c.count())\n",
    "print( c.count())\n",
    "print( c.count())\n",
    "print( d.count())\n",
    "print( d.reset())"
   ]
  }
 ],
 "metadata": {
  "kernelspec": {
   "name": "python3",
   "display_name": "Python 3"
  }
 },
 "nbformat": 4,
 "nbformat_minor": 2
}